{
 "cells": [
  {
   "cell_type": "markdown",
   "metadata": {
    "id": "PUuXUmU1N0Uw"
   },
   "source": [
    "## **Why Learn Data Visualization?**\n",
    "If you do any work with data, whether that be through business, machine\n",
    "learning, or artificial intelligence, you're going to want to know about how to\n",
    "put together visualizations. Visualizations serve two major purposes in the \n",
    "data analysis process.\n",
    "\n",
    "First of all, visualizations can be used during your initial data exploration \n",
    "to help you make insights into your data. Visualizations can reveal patterns in \n",
    "the data that statistics alone might not provide. They can also provide an \n",
    "intuition about the structure of your data. In addition to answering your \n",
    "research questions, visualizations might promote new questions for further \n",
    "investigation.\n",
    "\n",
    "Secondly, visualizations can help you convey your insights to others through \n",
    "explanatory plots. By generating new visualizations or polishing and refining \n",
    "the plots created during exploration, you can more easily show others what you \n",
    "found in your analysis. A good visualization can communicate your findings \n",
    "quickly and succinctly."
   ]
  },
  {
   "cell_type": "code",
   "execution_count": 4,
   "metadata": {
    "id": "FjnQCjzsOeD6"
   },
   "outputs": [],
   "source": [
    "import numpy as np\n",
    "import pandas as pd\n",
    "import matplotlib.pyplot as plt\n",
    "import seaborn as sb\n",
    "\n",
    "%matplotlib inline"
   ]
  },
  {
   "cell_type": "code",
   "execution_count": 3,
   "metadata": {
    "colab": {
     "base_uri": "https://localhost:8080/",
     "height": 259
    },
    "id": "sZV-ctJMQFfN",
    "outputId": "bc7b69bf-35b6-48d5-f5fc-ab3451e7008c"
   },
   "outputs": [
    {
     "name": "stdout",
     "output_type": "stream",
     "text": [
      "(807, 14)\n"
     ]
    },
    {
     "data": {
      "text/html": [
       "<div>\n",
       "<style scoped>\n",
       "    .dataframe tbody tr th:only-of-type {\n",
       "        vertical-align: middle;\n",
       "    }\n",
       "\n",
       "    .dataframe tbody tr th {\n",
       "        vertical-align: top;\n",
       "    }\n",
       "\n",
       "    .dataframe thead th {\n",
       "        text-align: right;\n",
       "    }\n",
       "</style>\n",
       "<table border=\"1\" class=\"dataframe\">\n",
       "  <thead>\n",
       "    <tr style=\"text-align: right;\">\n",
       "      <th></th>\n",
       "      <th>id</th>\n",
       "      <th>species</th>\n",
       "      <th>generation_id</th>\n",
       "      <th>height</th>\n",
       "      <th>weight</th>\n",
       "      <th>base_experience</th>\n",
       "      <th>type_1</th>\n",
       "      <th>type_2</th>\n",
       "      <th>hp</th>\n",
       "      <th>attack</th>\n",
       "      <th>defense</th>\n",
       "      <th>speed</th>\n",
       "      <th>special-attack</th>\n",
       "      <th>special-defense</th>\n",
       "    </tr>\n",
       "  </thead>\n",
       "  <tbody>\n",
       "    <tr>\n",
       "      <th>0</th>\n",
       "      <td>1</td>\n",
       "      <td>bulbasaur</td>\n",
       "      <td>1</td>\n",
       "      <td>0.7</td>\n",
       "      <td>6.9</td>\n",
       "      <td>64</td>\n",
       "      <td>grass</td>\n",
       "      <td>poison</td>\n",
       "      <td>45</td>\n",
       "      <td>49</td>\n",
       "      <td>49</td>\n",
       "      <td>45</td>\n",
       "      <td>65</td>\n",
       "      <td>65</td>\n",
       "    </tr>\n",
       "    <tr>\n",
       "      <th>1</th>\n",
       "      <td>2</td>\n",
       "      <td>ivysaur</td>\n",
       "      <td>1</td>\n",
       "      <td>1.0</td>\n",
       "      <td>13.0</td>\n",
       "      <td>142</td>\n",
       "      <td>grass</td>\n",
       "      <td>poison</td>\n",
       "      <td>60</td>\n",
       "      <td>62</td>\n",
       "      <td>63</td>\n",
       "      <td>60</td>\n",
       "      <td>80</td>\n",
       "      <td>80</td>\n",
       "    </tr>\n",
       "    <tr>\n",
       "      <th>2</th>\n",
       "      <td>3</td>\n",
       "      <td>venusaur</td>\n",
       "      <td>1</td>\n",
       "      <td>2.0</td>\n",
       "      <td>100.0</td>\n",
       "      <td>236</td>\n",
       "      <td>grass</td>\n",
       "      <td>poison</td>\n",
       "      <td>80</td>\n",
       "      <td>82</td>\n",
       "      <td>83</td>\n",
       "      <td>80</td>\n",
       "      <td>100</td>\n",
       "      <td>100</td>\n",
       "    </tr>\n",
       "    <tr>\n",
       "      <th>3</th>\n",
       "      <td>4</td>\n",
       "      <td>charmander</td>\n",
       "      <td>1</td>\n",
       "      <td>0.6</td>\n",
       "      <td>8.5</td>\n",
       "      <td>62</td>\n",
       "      <td>fire</td>\n",
       "      <td>NaN</td>\n",
       "      <td>39</td>\n",
       "      <td>52</td>\n",
       "      <td>43</td>\n",
       "      <td>65</td>\n",
       "      <td>60</td>\n",
       "      <td>50</td>\n",
       "    </tr>\n",
       "    <tr>\n",
       "      <th>4</th>\n",
       "      <td>5</td>\n",
       "      <td>charmeleon</td>\n",
       "      <td>1</td>\n",
       "      <td>1.1</td>\n",
       "      <td>19.0</td>\n",
       "      <td>142</td>\n",
       "      <td>fire</td>\n",
       "      <td>NaN</td>\n",
       "      <td>58</td>\n",
       "      <td>64</td>\n",
       "      <td>58</td>\n",
       "      <td>80</td>\n",
       "      <td>80</td>\n",
       "      <td>65</td>\n",
       "    </tr>\n",
       "  </tbody>\n",
       "</table>\n",
       "</div>"
      ],
      "text/plain": [
       "   id     species  generation_id  height  weight  base_experience type_1  \\\n",
       "0   1   bulbasaur              1     0.7     6.9               64  grass   \n",
       "1   2     ivysaur              1     1.0    13.0              142  grass   \n",
       "2   3    venusaur              1     2.0   100.0              236  grass   \n",
       "3   4  charmander              1     0.6     8.5               62   fire   \n",
       "4   5  charmeleon              1     1.1    19.0              142   fire   \n",
       "\n",
       "   type_2  hp  attack  defense  speed  special-attack  special-defense  \n",
       "0  poison  45      49       49     45              65               65  \n",
       "1  poison  60      62       63     60              80               80  \n",
       "2  poison  80      82       83     80             100              100  \n",
       "3     NaN  39      52       43     65              60               50  \n",
       "4     NaN  58      64       58     80              80               65  "
      ]
     },
     "execution_count": 3,
     "metadata": {},
     "output_type": "execute_result"
    }
   ],
   "source": [
    "pokemon = pd.read_csv('https://raw.githubusercontent.com/thecodescholar/DA_Python_Jun_21/main/Dataset/pokemon.csv')\n",
    "print(pokemon.shape)\n",
    "pokemon.head()"
   ]
  },
  {
   "cell_type": "markdown",
   "metadata": {
    "id": "Te2lL6q3OfM2"
   },
   "source": [
    "## **Bar Charts:**\n",
    "A bar chart is used to depict the distribution of a categorical variable. In a bar chart, each level of the categorical variable is depicted with a bar, whose height indicates the frequency of data points that take on that level. A basic bar chart of frequencies can be created through the use of seaborn's countplot function:"
   ]
  },
  {
   "cell_type": "code",
   "execution_count": null,
   "metadata": {
    "colab": {
     "base_uri": "https://localhost:8080/",
     "height": 300
    },
    "id": "5ZD0Vl4iNGH2",
    "outputId": "6d9d4906-22ae-463e-81df-3a1d7c6b9d96"
   },
   "outputs": [
    {
     "data": {
      "image/png": "[encoded data removed]",
      "text/plain": [
       "<Figure size 432x288 with 1 Axes>"
      ]
     },
     "metadata": {
      "needs_background": "light",
      "tags": []
     },
     "output_type": "display_data"
    }
   ],
   "source": [
    "sb.countplot(data = pokemon, x = 'generation_id')"
   ]
  },
  {
   "cell_type": "markdown",
   "metadata": {
    "id": "Bn2y42-XQnqc"
   },
   "source": [
    "By default, each category is given a different color. This might come in handy for building associations between these category labels and encodings in plots with more variables. Otherwise, it's a good idea to simplify the plot and reduce unnecessary distractions by plotting all bars in the same color. This can be set using the \"color\" parameter:"
   ]
  },
  {
   "cell_type": "markdown",
   "metadata": {
    "id": "-_rfkw4WSY0m"
   },
   "source": [
    "## **Additional Variations**\n",
    "If you have a lot of category levels, or the category names are long, then you might end up with overcrowding of the tick labels."
   ]
  },
  {
   "cell_type": "code",
   "execution_count": null,
   "metadata": {
    "colab": {
     "base_uri": "https://localhost:8080/",
     "height": 297
    },
    "id": "ULz1POnVRJZt",
    "outputId": "def6be48-4a2f-4796-9c21-6c5ec9dd18fb",
    "scrolled": true
   },
   "outputs": [
    {
     "data": {
      "text/plain": [
       "<matplotlib.axes._subplots.AxesSubplot at 0x7f3f3b559550>"
      ]
     },
     "execution_count": 101,
     "metadata": {
      "tags": []
     },
     "output_type": "execute_result"
    },
    {
     "data": {
      "image/png": "[encoded data removed]",
      "text/plain": [
       "<Figure size 432x288 with 1 Axes>"
      ]
     },
     "metadata": {
      "needs_background": "light",
      "tags": []
     },
     "output_type": "display_data"
    }
   ],
   "source": [
    "base_color = sb.color_palette()[2]\n",
    "sb.countplot(data = pokemon, x = 'type_1', color = 'cyan')"
   ]
  },
  {
   "cell_type": "markdown",
   "metadata": {
    "id": "yTGNNg4KSgXJ"
   },
   "source": [
    "1. one way to deal with it is that, you can use matplotlib's xticks function and its \"rotation\" parameter to change the orientation in which the labels will be depicted (as degrees counter-clockwise from horizontal):"
   ]
  },
  {
   "cell_type": "code",
   "execution_count": null,
   "metadata": {
    "colab": {
     "base_uri": "https://localhost:8080/",
     "height": 309
    },
    "id": "QTpg62llSETp",
    "outputId": "12449db2-7d70-4590-ab90-9d8dcc208e5f"
   },
   "outputs": [
    {
     "data": {
      "image/png": "[encoded data removed]",
      "text/plain": [
       "<Figure size 432x288 with 1 Axes>"
      ]
     },
     "metadata": {
      "needs_background": "light",
      "tags": []
     },
     "output_type": "display_data"
    }
   ],
   "source": [
    "base_color = sb.color_palette()[2]\n",
    "sb.countplot(data = pokemon, x = 'type_1', color = base_color)\n",
    "plt.xticks(rotation=90);"
   ]
  },
  {
   "cell_type": "markdown",
   "metadata": {
    "id": "7Rkn80hHSn8H"
   },
   "source": [
    "2. Another way to address this is through creation of a horizontal bar chart. In a horizontal bar chart, it is the length of each bar that indicates frequency, rather than the height. In the code, instead of setting the data or variable on the \"x\" parameter, you can set the variable to be plotted on the parameter \"y\":"
   ]
  },
  {
   "cell_type": "code",
   "execution_count": null,
   "metadata": {
    "colab": {
     "base_uri": "https://localhost:8080/",
     "height": 296
    },
    "id": "32PH6wyVSMUj",
    "outputId": "408e9016-6a99-40a1-b1b9-324650d787a2"
   },
   "outputs": [
    {
     "data": {
      "text/plain": [
       "<matplotlib.axes._subplots.AxesSubplot at 0x7f3f3c071f90>"
      ]
     },
     "execution_count": 57,
     "metadata": {
      "tags": []
     },
     "output_type": "execute_result"
    },
    {
     "data": {
      "image/png": "[encoded data removed]",
      "text/plain": [
       "<Figure size 432x288 with 1 Axes>"
      ]
     },
     "metadata": {
      "needs_background": "light",
      "tags": []
     },
     "output_type": "display_data"
    }
   ],
   "source": [
    "base_color = sb.color_palette()[2]\n",
    "sb.countplot(data = pokemon, y = 'type_1', color = base_color)"
   ]
  },
  {
   "cell_type": "markdown",
   "metadata": {
    "id": "g1sQvHz4TPsi"
   },
   "source": [
    "## **Count Missing Data:**\n",
    "One interesting way we can apply bar charts is through the visualization of missing data. We can use pandas functions to create a table with the number of missing values in each column."
   ]
  },
  {
   "cell_type": "code",
   "execution_count": null,
   "metadata": {
    "colab": {
     "base_uri": "https://localhost:8080/"
    },
    "id": "V_FAR1_XSSfI",
    "outputId": "e91388fc-1e00-4f21-eb8c-a495f6a02b39"
   },
   "outputs": [
    {
     "data": {
      "text/plain": [
       "id                   0\n",
       "species              0\n",
       "generation_id        0\n",
       "height               0\n",
       "weight               0\n",
       "base_experience      0\n",
       "type_1               0\n",
       "type_2             402\n",
       "hp                   0\n",
       "attack               0\n",
       "defense              0\n",
       "speed                0\n",
       "special-attack       0\n",
       "special-defense      0\n",
       "dtype: int64"
      ]
     },
     "execution_count": 58,
     "metadata": {
      "tags": []
     },
     "output_type": "execute_result"
    }
   ],
   "source": [
    "pokemon.isna().sum()"
   ]
  },
  {
   "cell_type": "markdown",
   "metadata": {
    "id": "A-wpLnzCTpDj"
   },
   "source": [
    "What if we want to visualize these missing value counts? We could treat the variable names as levels of a categorical variable, and create a resulting bar plot. However, since the data is not in its tidy, unsummarized form, we need to make use of a different plotting function. Seaborn's barplot function is built to depict a summary of one quantitative variable against levels of a second, qualitative variable, but can be used here."
   ]
  },
  {
   "cell_type": "code",
   "execution_count": null,
   "metadata": {
    "id": "GLZYSy7r_5YA"
   },
   "outputs": [],
   "source": [
    "import numpy as np\n",
    "import pandas as pd\n",
    "import matplotlib.pyplot as plt\n",
    "import seaborn as sb\n",
    "\n",
    "%matplotlib inline"
   ]
  },
  {
   "cell_type": "code",
   "execution_count": null,
   "metadata": {
    "colab": {
     "base_uri": "https://localhost:8080/",
     "height": 259
    },
    "id": "MfgxD0UE_88o",
    "outputId": "afac9f3b-5e53-4c96-9c69-3513effde9d4"
   },
   "outputs": [
    {
     "name": "stdout",
     "output_type": "stream",
     "text": [
      "(807, 14)\n"
     ]
    },
    {
     "data": {
      "text/html": [
       "<div>\n",
       "<style scoped>\n",
       "    .dataframe tbody tr th:only-of-type {\n",
       "        vertical-align: middle;\n",
       "    }\n",
       "\n",
       "    .dataframe tbody tr th {\n",
       "        vertical-align: top;\n",
       "    }\n",
       "\n",
       "    .dataframe thead th {\n",
       "        text-align: right;\n",
       "    }\n",
       "</style>\n",
       "<table border=\"1\" class=\"dataframe\">\n",
       "  <thead>\n",
       "    <tr style=\"text-align: right;\">\n",
       "      <th></th>\n",
       "      <th>id</th>\n",
       "      <th>species</th>\n",
       "      <th>generation_id</th>\n",
       "      <th>height</th>\n",
       "      <th>weight</th>\n",
       "      <th>base_experience</th>\n",
       "      <th>type_1</th>\n",
       "      <th>type_2</th>\n",
       "      <th>hp</th>\n",
       "      <th>attack</th>\n",
       "      <th>defense</th>\n",
       "      <th>speed</th>\n",
       "      <th>special-attack</th>\n",
       "      <th>special-defense</th>\n",
       "    </tr>\n",
       "  </thead>\n",
       "  <tbody>\n",
       "    <tr>\n",
       "      <th>0</th>\n",
       "      <td>1</td>\n",
       "      <td>bulbasaur</td>\n",
       "      <td>1</td>\n",
       "      <td>0.7</td>\n",
       "      <td>6.9</td>\n",
       "      <td>64</td>\n",
       "      <td>grass</td>\n",
       "      <td>poison</td>\n",
       "      <td>45</td>\n",
       "      <td>49</td>\n",
       "      <td>49</td>\n",
       "      <td>45</td>\n",
       "      <td>65</td>\n",
       "      <td>65</td>\n",
       "    </tr>\n",
       "    <tr>\n",
       "      <th>1</th>\n",
       "      <td>2</td>\n",
       "      <td>ivysaur</td>\n",
       "      <td>1</td>\n",
       "      <td>1.0</td>\n",
       "      <td>13.0</td>\n",
       "      <td>142</td>\n",
       "      <td>grass</td>\n",
       "      <td>poison</td>\n",
       "      <td>60</td>\n",
       "      <td>62</td>\n",
       "      <td>63</td>\n",
       "      <td>60</td>\n",
       "      <td>80</td>\n",
       "      <td>80</td>\n",
       "    </tr>\n",
       "    <tr>\n",
       "      <th>2</th>\n",
       "      <td>3</td>\n",
       "      <td>venusaur</td>\n",
       "      <td>1</td>\n",
       "      <td>2.0</td>\n",
       "      <td>100.0</td>\n",
       "      <td>236</td>\n",
       "      <td>grass</td>\n",
       "      <td>poison</td>\n",
       "      <td>80</td>\n",
       "      <td>82</td>\n",
       "      <td>83</td>\n",
       "      <td>80</td>\n",
       "      <td>100</td>\n",
       "      <td>100</td>\n",
       "    </tr>\n",
       "    <tr>\n",
       "      <th>3</th>\n",
       "      <td>4</td>\n",
       "      <td>charmander</td>\n",
       "      <td>1</td>\n",
       "      <td>0.6</td>\n",
       "      <td>8.5</td>\n",
       "      <td>62</td>\n",
       "      <td>fire</td>\n",
       "      <td>NaN</td>\n",
       "      <td>39</td>\n",
       "      <td>52</td>\n",
       "      <td>43</td>\n",
       "      <td>65</td>\n",
       "      <td>60</td>\n",
       "      <td>50</td>\n",
       "    </tr>\n",
       "    <tr>\n",
       "      <th>4</th>\n",
       "      <td>5</td>\n",
       "      <td>charmeleon</td>\n",
       "      <td>1</td>\n",
       "      <td>1.1</td>\n",
       "      <td>19.0</td>\n",
       "      <td>142</td>\n",
       "      <td>fire</td>\n",
       "      <td>NaN</td>\n",
       "      <td>58</td>\n",
       "      <td>64</td>\n",
       "      <td>58</td>\n",
       "      <td>80</td>\n",
       "      <td>80</td>\n",
       "      <td>65</td>\n",
       "    </tr>\n",
       "  </tbody>\n",
       "</table>\n",
       "</div>"
      ],
      "text/plain": [
       "   id     species  generation_id  ...  speed  special-attack  special-defense\n",
       "0   1   bulbasaur              1  ...     45              65               65\n",
       "1   2     ivysaur              1  ...     60              80               80\n",
       "2   3    venusaur              1  ...     80             100              100\n",
       "3   4  charmander              1  ...     65              60               50\n",
       "4   5  charmeleon              1  ...     80              80               65\n",
       "\n",
       "[5 rows x 14 columns]"
      ]
     },
     "execution_count": 105,
     "metadata": {
      "tags": []
     },
     "output_type": "execute_result"
    }
   ],
   "source": [
    "df = pd.read_csv('pokemon.csv')\n",
    "print(df.shape)\n",
    "df.head()"
   ]
  },
  {
   "cell_type": "markdown",
   "metadata": {
    "id": "LAPTAuHcCLPZ"
   },
   "source": [
    "## **Histograms:**\n",
    "\n",
    "A histogram is used to plot the distribution of a numeric variable. It's the quantitative version of the bar chart. However, rather than plot one bar for each unique numeric value, values are grouped into continuous bins, and one bar for each bin is plotted depicting the number. For instance, using the default settings for matplotlib's hist function:"
   ]
  },
  {
   "cell_type": "code",
   "execution_count": null,
   "metadata": {
    "colab": {
     "base_uri": "https://localhost:8080/",
     "height": 332
    },
    "id": "CyulfjZFB5w_",
    "outputId": "8f2908f4-4cb5-4323-940c-e2c88031711b"
   },
   "outputs": [
    {
     "data": {
      "text/plain": [
       "(array([ 31.,  93., 163., 159., 128., 115.,  81.,  26.,   6.,   5.]),\n",
       " array([  5. ,  20.5,  36. ,  51.5,  67. ,  82.5,  98. , 113.5, 129. ,\n",
       "        144.5, 160. ]),\n",
       " <a list of 10 Patch objects>)"
      ]
     },
     "execution_count": 64,
     "metadata": {
      "tags": []
     },
     "output_type": "execute_result"
    },
    {
     "data": {
      "image/png": "[encoded data removed]",
      "text/plain": [
       "<Figure size 432x288 with 1 Axes>"
      ]
     },
     "metadata": {
      "needs_background": "light",
      "tags": []
     },
     "output_type": "display_data"
    }
   ],
   "source": [
    "plt.hist(data = df, x = 'speed')"
   ]
  },
  {
   "cell_type": "markdown",
   "metadata": {
    "id": "aKrWcYMceQTF"
   },
   "source": [
    "Overall, a generally bimodal distribution is observed (one with two peaks or humps). The direct adjacency of the bars in the histogram, in contrast to the separated bars in a bar chart, emphasize the fact that the data takes on a continuous range of values. When a data value is on a bin edge, it is counted in the bin to its right. The exception is the rightmost bin edge, which places data values equal to the uppermost limit into the right-most bin (to the upper limit's left).\n",
    "\n",
    "By default, the hist function divides the data into 10 bins, based on the range of values taken. In almost every case, we will want to change these settings. Usually, having only ten bins is too few to really understand the distribution of the data."
   ]
  },
  {
   "cell_type": "code",
   "execution_count": null,
   "metadata": {
    "colab": {
     "base_uri": "https://localhost:8080/",
     "height": 366
    },
    "id": "TJ5lVR-_CWmP",
    "outputId": "485d591a-a42e-4eea-af40-f6da1acef870"
   },
   "outputs": [
    {
     "data": {
      "text/plain": [
       "(array([  6.,  25.,  21.,  72.,  66.,  97.,  53., 106.,  64.,  64.,  69.,\n",
       "         46.,  52.,  29.,  18.,   8.,   5.,   1.,   4.,   1.]),\n",
       " array([  5.  ,  12.75,  20.5 ,  28.25,  36.  ,  43.75,  51.5 ,  59.25,\n",
       "         67.  ,  74.75,  82.5 ,  90.25,  98.  , 105.75, 113.5 , 121.25,\n",
       "        129.  , 136.75, 144.5 , 152.25, 160.  ]),\n",
       " <a list of 20 Patch objects>)"
      ]
     },
     "execution_count": 65,
     "metadata": {
      "tags": []
     },
     "output_type": "execute_result"
    },
    {
     "data": {
      "image/png": "[encoded data removed]",
      "text/plain": [
       "<Figure size 432x288 with 1 Axes>"
      ]
     },
     "metadata": {
      "needs_background": "light",
      "tags": []
     },
     "output_type": "display_data"
    }
   ],
   "source": [
    "plt.hist(data = df, x = 'speed', bins = 20)"
   ]
  },
  {
   "cell_type": "markdown",
   "metadata": {
    "id": "yCXi8fDHes7R"
   },
   "source": [
    "You can use descriptive statistics (e.g. via df['num_var'].describe()) to gauge what minimum and maximum bin limits might be appropriate for the plot. These bin edges can be set using numpy's arange function.\n",
    "\n",
    "The first argument to arange is the leftmost bin edge, the second argument the upper limit, and the third argument the bin width. Note that even though I've specified the \"max\" value in the second argument, I've added a \"+1\" (the bin width). That is because arange will only return values that are strictly less than the upper limit. Adding in \"+1\" is a safety measure to ensure that the rightmost bin edge is at least the maximum data value, so that all of the data points are plotted. The leftmost bin is set as a hardcoded value to get a nice, interpretable value, though you could use functions like numpy's around if you wanted to approach that end programmatically."
   ]
  },
  {
   "cell_type": "markdown",
   "metadata": {
    "id": "sRJu9JH8ALmp"
   },
   "source": [
    "## **Pie Charts:**\n",
    "A pie chart is a common univariate plot type that is used to depict relative frequencies for levels of a categorical variable. Frequencies in a pie chart are depicted as wedges drawn on a circle: the larger the angle or area, the more common the categorical value taken."
   ]
  },
  {
   "cell_type": "markdown",
   "metadata": {
    "id": "5lqXY76gAYvV"
   },
   "source": [
    "![l3-c07-piecharts2.png](data:image/png;base64,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)"
   ]
  },
  {
   "cell_type": "markdown",
   "metadata": {
    "id": "Ij10kjHsAegX"
   },
   "source": [
    "###### Pie chart and barchart displaying the same categorical counts."
   ]
  },
  {
   "cell_type": "markdown",
   "metadata": {
    "id": "Fp1-hCKZApCC"
   },
   "source": [
    "Unfortunately, pie charts are a fairly limited plot type in the range of scenarios where they can be used, and it is easy for chart makers to try and spice up pie charts in a way that makes them more difficult to read. If you want to use a pie chart, try to follow certain guidelines:\n",
    "\n",
    "- Make sure that your interest is in relative frequencies. Areas should represent parts of a whole, rather than measurements on a second variable (unless that second variable can logically be summed up into some whole).\n",
    "- Limit the number of slices plotted. A pie chart works best with two or three slices, though it's also possible to plot with four or five slices as long as the wedge sizes can be distinguished. If you have a lot of categories, or categories that have small proportional representation, consider grouping them together so that fewer wedges are plotted, or use an 'Other' category to handle them.\n",
    "- Plot the data systematically. One typical method of plotting a pie chart is to start from the top of the circle, then plot each categorical level clockwise from most frequent to least frequent. If you have three categories and are interested in the comparison of two of them, a common plotting method is to place the two categories of interest on either side of the 12 o'clock direction, with the third category filling in the remaining space at the bottom.\n",
    "\n",
    "If these guidelines cannot be met, then you should probably make use of a bar chart instead. A bar chart is a safer choice in general. The bar heights are more precisely interpreted than areas or angles, and a bar chart can be displayed more compactly than a pie chart. There's also more flexibility with a bar chart for plotting variables with a lot of levels, like plotting the bars horizontally.\n",
    "\n",
    "You can create a pie chart with matplotlib's ```pie``` function. This function requires that the data be in a summarized form: the primary argument to the function will be the wedge sizes."
   ]
  },
  {
   "cell_type": "code",
   "execution_count": 6,
   "metadata": {
    "colab": {
     "base_uri": "https://localhost:8080/",
     "height": 248
    },
    "id": "8nMSOatdAPu2",
    "outputId": "87a0021a-2eb0-42d2-8199-88c984076e50"
   },
   "outputs": [
    {
     "data": {
      "image/png": "[encoded data removed]",
      "text/plain": [
       "<Figure size 432x288 with 1 Axes>"
      ]
     },
     "metadata": {},
     "output_type": "display_data"
    }
   ],
   "source": [
    "# code for the pie chart seen above\n",
    "counts_ = [100, 500, 666, 155, 400]\n",
    "cat_ = [\"A\", \"B\", 'C', 'D', 'E']\n",
    "plt.pie(counts_, labels = cat_);\n"
   ]
  },
  {
   "cell_type": "markdown",
   "metadata": {
    "id": "WFETAkVgBlUN"
   },
   "source": [
    "## **Additional Variation:**\n",
    "\n",
    "A sister plot to the pie chart is the donut plot. It's just like a pie chart, except that there's a hole in the center of the plot. Perceptually, there's not much difference between a donut plot and a pie chart, and donut plots should be used with the same guidelines as a pie chart. Aesthetics might be one of the reasons why you would choose one or the other. For instance, you might see statistics reported in the hole of a donut plot to better make use of available space.\n",
    "\n",
    "To create a donut plot, you can add a \"wedgeprops\" argument to the pie function call. By default, the radius of the pie (circle) is 1; setting the wedges' width property to less than 1 removes coloring from the center of the circle."
   ]
  },
  {
   "cell_type": "code",
   "execution_count": 12,
   "metadata": {
    "colab": {
     "base_uri": "https://localhost:8080/",
     "height": 253
    },
    "id": "MwaiRfqzBONw",
    "outputId": "ff2e685d-cc3d-4da1-af3b-a48dac61e60a"
   },
   "outputs": [
    {
     "data": {
      "text/plain": [
       "(-1.1125381841062172,\n",
       " 1.1005970563860101,\n",
       " -1.1044713886532853,\n",
       " 1.108663851838942)"
      ]
     },
     "execution_count": 12,
     "metadata": {},
     "output_type": "execute_result"
    },
    {
     "data": {
      "image/png": "[encoded data removed]",
      "text/plain": [
       "<Figure size 432x288 with 1 Axes>"
      ]
     },
     "metadata": {},
     "output_type": "display_data"
    }
   ],
   "source": [
    "# code for the pie chart seen above\n",
    "counts_ = [100, 500, 666, 155, 400]\n",
    "cat_ = [\"A\", \"B\", 'C', 'D', 'E']\n",
    "plt.pie(counts_, labels = cat_,  wedgeprops = {'width' : 0.4})\n",
    "plt.axis('square')\n"
   ]
  },
  {
   "cell_type": "markdown",
   "metadata": {},
   "source": [
    "### Great Job\n",
    "\n",
    "## All the Best\n",
    "\n",
    "# THE CODE SCHOLAR"
   ]
  }
 ],
 "metadata": {
  "colab": {
   "collapsed_sections": [],
   "name": "Pandas_and_Data_Visualisation.ipynb",
   "provenance": []
  },
  "kernelspec": {
   "display_name": "Python 3",
   "language": "python",
   "name": "python3"
  },
  "language_info": {
   "codemirror_mode": {
    "name": "ipython",
    "version": 3
   },
   "file_extension": ".py",
   "mimetype": "text/x-python",
   "name": "python",
   "nbconvert_exporter": "python",
   "pygments_lexer": "ipython3",
   "version": "3.8.3"
  }
 },
 "nbformat": 4,
 "nbformat_minor": 1
}
